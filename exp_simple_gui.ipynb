{
 "cells": [
  {
   "cell_type": "code",
   "execution_count": 1,
   "metadata": {},
   "outputs": [],
   "source": [
    "import pandas as pd\n",
    "import numpy as np\n",
    "import re\n",
    "import PySimpleGUI as sg\n",
    "\n",
    "def ref_sep(file_to_sep):\n",
    "    \n",
    "#Чистим файл от табуляции, переводов строк и переписываем в массив full_lines только непустые строки\n",
    "    full_lines =[]\n",
    "    references = []\n",
    "    for i in range(len(file_to_sep)):\n",
    "        file_to_sep[i] = file_to_sep[i].replace('\\n', '')\n",
    "        file_to_sep[i] = file_to_sep[i].replace('\\t', '')\n",
    "        if len(file_to_sep[i]) != 0:\n",
    "            full_lines.append(file_to_sep[i])\n",
    "\n",
    "#Доходим в full_lines до заголовка Литература и считываем в references все что после\n",
    "    for index, line in enumerate(full_lines):\n",
    "        if 'ЛИТЕРАТУРА' in line:\n",
    "            start = index\n",
    "        elif 'REFERENCE' in line.upper():\n",
    "            start = index\n",
    "    for i in range(start+1, len(full_lines)):\n",
    "        references.append(full_lines[i])\n",
    "    \n",
    "    return(references)\n",
    "\n",
    "def fresh(file_to_fresh):\n",
    "    fresh=[]\n",
    "    for line in file_to_fresh:\n",
    "        if '2016' in line:\n",
    "            fresh.append(line)\n",
    "        elif '2017' in line:\n",
    "            fresh.append(line)\n",
    "        elif '2018' in line:\n",
    "            fresh.append(line)\n",
    "        elif '2019' in line:\n",
    "            fresh.append(line)\n",
    "        elif '2020' in line:\n",
    "            fresh.append(line)\n",
    "    return(fresh)\n",
    "\n",
    "#Выделение названия\n",
    "def sep_title(list_to_sep):\n",
    "    title=[]\n",
    "    titles_to_check=[]\n",
    "    for line in list_to_sep:\n",
    "        title = re.findall(r'(\\w+)\\b ', line)\n",
    "        words = title[0]+' '+title[1]+' '+title[2]+' '+title[3]+' '+title[4]+' '+title[5]\n",
    "        titles_to_check.append(words)\n",
    "    return(titles_to_check)\n",
    "\n",
    "#Поиск числа вхождений в базу\n",
    "def scopus_counter(list_to_check):\n",
    "    scopus = pd.read_excel('/Users/alisamokaeva/Downloads/Reference-check/Scopus_BMSTU_08042020.xlsx')\n",
    "    count_tit=0\n",
    "    result = []\n",
    "    for i in scopus['Название']:\n",
    "        for line in list_to_check:\n",
    "            if line in str(i):\n",
    "                count_tit+=1\n",
    "                result.append(i)\n",
    "                print(count_tit,' ', line)\n",
    "                print(i,'\\n')\n",
    "    if len(result) == 0:\n",
    "        print('Ссылок на Scopus BMSTU не найдено!')\n",
    "    elif len(result) > 0:\n",
    "        print('Ссылок на Scopus BMSTU найдено:',len(result))\n",
    "            \n",
    "    return result\n",
    "\n",
    "\n",
    "layout = [ [sg.Text('Загрузите файл'), sg.InputText(), sg.FileBrowse()],\n",
    "    [sg.Output(size=(88, 20))],\n",
    "    [sg.Submit(), sg.Cancel()] ]\n",
    "window = sg.Window('Анализ источников литературы', layout)\n",
    "\n",
    "while True:                             # The Event Loop\n",
    "    event, values = window.read()\n",
    "    if event in (None, 'Exit', 'Cancel'):\n",
    "        break\n",
    "    if event == 'Submit':\n",
    "        filepath = [] #file\n",
    "        filepath.append(values[0])\n",
    "        lines = open(filepath[0], 'r').readlines()\n",
    "        ref_to_check = ref_sep(lines)\n",
    "        fresh_to_check = fresh(ref_to_check)\n",
    "        print('Количество источников от 2016 года:', len(fresh_to_check), '\\n')\n",
    "        titles_to_check = sep_title(fresh_to_check)\n",
    "        scopus_counter(titles_to_check)\n",
    "        \n",
    "window.close()"
   ]
  },
  {
   "cell_type": "code",
   "execution_count": 3,
   "metadata": {},
   "outputs": [
    {
     "name": "stdout",
     "output_type": "stream",
     "text": [
      "1. Serebrenny, V., Shereuzhev, M., & Metasov, I. (2018). Approaches to the robotization of agricultural mobile machines. In MATEC Web of Conferences (Vol. 161, p. 03014). EDP Sciences. \n",
      "2. Postanovlenie Pravitel'stva Rossijskoj Federacii ot 18 aprelja 2016 g. N 317 «O realizacii nacional'noj tehnologicheskoj iniciativy». [Resolution of the Government of the Russian Federation of April 18, 2016 N 317 \"On the implementation of the national technology initiative\"]. Retrieved from http://www.nti2035.ru/documents/Normative/ (accessed 25.12.2018). (In Russ.).\n",
      "6. Voronov, E. M., & Serov, V. A. (2019). A Coordinated Stable-Effective Compromises Based Methodology of Design and Control in Multi-object Systems. In Smart Electromechanical Systems (pp. 147-157). Springer, Cham.\n",
      "7. Glushchenko, F., & Fedotova, A. (2018, October). Developing automotive production with using product lifecycle management system. In 2018 2nd School on Dynamics of Complex Networks and their Application in Intellectual Robotics (DCNAIR) (pp. 38-40). IEEE.\n",
      "8. Cherubini, A., Passama, R., Crosnier, A., Lasnier, A., & Fraisse, P. (2016). Collaborative manufacturing with physical human–robot interaction. Robotics and Computer-Integrated Manufacturing, 40, 1-13.\n",
      "13. Antzoulatos, N., Castro, E., de Silva, L., Rocha, A. D., Ratchev, S., & Barata, J. (2017). A multi-agent framework for capability-based reconfiguration of industrial assembly systems. International Journal of Production Research, 55(10), 2950-2960.\n",
      "14. Michalos, G., Spiliotopoulos, J., Makris, S., & Chryssolouris, G. (2018). A method for planning human robot shared tasks. CIRP Journal of Manufacturing Science and Technology, 22, 76-90.\n",
      "15. Marvel, J. A., Bostelman, R., & Falco, J. (2018). Multi-robot assembly strategies and metrics. ACM Computing Surveys (CSUR), 51(1), 14.\n",
      "16. Ranz, F., Hummel, V., & Sihn, W. (2017). Capability-based task allocation in human-robot collaboration. Procedia Manufacturing, 9, 182-189. \n",
      "17. Teiwes, J., Bänziger, T., Kunz, A., & Wegener, K. (2016, September). Identifying the potential of human-robot collaboration in automotive assembly lines using a standardised work description. In 2016 22nd International Conference on Automation and Computing (ICAC) (pp. 78-83). IEEE.\n",
      "18. Hajduk, M., Sukop, M., Semjon, J., Jánoš, R., Varga, J., & Vagaš, M. (2018). Principles of Formation of Flexible Manufacturing Systems. Tehnički vjesnik, 25(3), 649-654.\n",
      "21. Zhang, J., Yao, X., Zhou, J., Jiang, J., & Chen, X. (2017, September). Self-organizing manufacturing: Current status and prospect for Industry 4.0. In 2017 5th International Conference on Enterprise Systems (ES) (pp. 319-326). IEEE.\n",
      "22. Salazar, L. A. C., Alvarado, O. A. R., & Chacón, E. (2018, June). Implementing Industrial Control Automation for Holonic Manufacturing Systems Based on the Production Unit Architecture. In International Workshop on Service Orientation in Holonic and Multi-Agent Manufacturing (pp. 233-246). Springer, Cham. \n",
      "24. Drouot, A., Irving, L., Sanderson, D., Smith, A., & Ratchev, S. (2017). A transformable manufacturing concept for low-volume aerospace assembly. IFAC-PapersOnLine, 50(1), 5712-5717.\n",
      "25. Drouot, A., Zhao, R., Irving, L., Sanderson, D., & Ratchev, S. (2018). Measurement assisted assembly for high accuracy aerospace manufacturing. IFAC-PapersOnLine, 51(11), 393-398.\n",
      "26. Vorotnikov, S., Ermishin, K., Nazarova, A., & Yuschenko, A. (2018, September). Multi-agent Robotic Systems in Collaborative Robotics. In International Conference on Interactive Collaborative Robotics (pp. 270-279). Springer, Cham.\n",
      "27. Zenkevich, S. L., Nazarova, A. V., & Zhu, H. (2019). Logical Control a Group of Mobile Robots. In Smart Electromechanical Systems(pp. 31-43). Springer, Cham.\n",
      "28. Lemaignan, S., Warnier, M., Sisbot, E. A., Clodic, A., & Alami, R. (2017). Artificial cognition for social human–robot interaction: An implementation. Artificial Intelligence, 247, 45-69.\n",
      "29. Pellegrinelli, S., Admoni, H., Javdani, S., & Srinivasa, S. (2016, October). Human-robot shared workspace collaboration via hindsight optimization. In 2016 IEEE/RSJ International Conference on Intelligent Robots and Systems (IROS) (pp. 831-838). IEEE.\n"
     ]
    }
   ],
   "source": [
    "for i in fresh_to_check:\n",
    "    print(i)"
   ]
  },
  {
   "cell_type": "code",
   "execution_count": 4,
   "metadata": {},
   "outputs": [
    {
     "data": {
      "text/plain": [
       "['Approaches to the robotization of agricultural',\n",
       " 'Postanovlenie stva Rossijskoj Federacii ot 18',\n",
       " 'A Coordinated Effective Compromises Based Methodology',\n",
       " 'Developing automotive production with using product',\n",
       " 'Collaborative manufacturing with physical robot Robotics',\n",
       " 'de A agent framework for based',\n",
       " 'A method for planning human robot',\n",
       " 'robot assembly strategies and ACM Computing',\n",
       " 'based task allocation in robot Procedia',\n",
       " 'Identifying the potential of robot collaboration',\n",
       " 'Principles of Formation of Flexible Manufacturing',\n",
       " 'organizing Current status and prospect for',\n",
       " 'Implementing Industrial Control Automation for Holonic',\n",
       " 'A transformable manufacturing concept for volume',\n",
       " 'Measurement assisted assembly for high accuracy',\n",
       " 'agent Robotic Systems in Collaborative International',\n",
       " 'Logical Control a Group of Mobile',\n",
       " 'Artificial cognition for social robot An',\n",
       " 'robot shared workspace collaboration via hindsight']"
      ]
     },
     "execution_count": 4,
     "metadata": {},
     "output_type": "execute_result"
    }
   ],
   "source": [
    "titles_to_check"
   ]
  },
  {
   "cell_type": "code",
   "execution_count": null,
   "metadata": {},
   "outputs": [],
   "source": []
  },
  {
   "cell_type": "code",
   "execution_count": null,
   "metadata": {},
   "outputs": [],
   "source": []
  }
 ],
 "metadata": {
  "kernelspec": {
   "display_name": "Python 3",
   "language": "python",
   "name": "python3"
  },
  "language_info": {
   "codemirror_mode": {
    "name": "ipython",
    "version": 3
   },
   "file_extension": ".py",
   "mimetype": "text/x-python",
   "name": "python",
   "nbconvert_exporter": "python",
   "pygments_lexer": "ipython3",
   "version": "3.7.7"
  }
 },
 "nbformat": 4,
 "nbformat_minor": 2
}
