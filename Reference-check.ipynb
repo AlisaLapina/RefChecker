{
 "cells": [
  {
   "cell_type": "code",
   "execution_count": 1,
   "metadata": {},
   "outputs": [],
   "source": [
    "import pandas as pd\n",
    "import numpy as np\n",
    "import codecs\n",
    "import re"
   ]
  },
  {
   "cell_type": "markdown",
   "metadata": {},
   "source": [
    "Загружаем базу"
   ]
  },
  {
   "cell_type": "code",
   "execution_count": 2,
   "metadata": {},
   "outputs": [],
   "source": [
    "scopus = pd.read_excel('Scopus_BMSTU_08042020.xlsx')"
   ]
  },
  {
   "cell_type": "markdown",
   "metadata": {},
   "source": [
    "Функция, которая отделяет раздел \"литература\" от остальной части статьи. Просто находит заголовок и списывает все до конца."
   ]
  },
  {
   "cell_type": "code",
   "execution_count": 3,
   "metadata": {
    "scrolled": true
   },
   "outputs": [],
   "source": [
    "#Списываем кусок от заголовка \"ЛИТЕРАТУРА\" до конца файла в список литературы (list)\n",
    "def ref_sep (file_to_sep):\n",
    "    print(file_to_sep)\n",
    "    for index, line in enumerate(file_to_sep):\n",
    "        if 'ЛИТЕРАТУРА' in line:\n",
    "            start = index\n",
    "        elif 'REFERENCE' in line.upper():\n",
    "            start = index\n",
    "    for i in range(start+1, len(file_to_sep)):\n",
    "        references.append(file_to_sep[i])\n",
    "    return references"
   ]
  },
  {
   "cell_type": "markdown",
   "metadata": {},
   "source": [
    "Чтение пока работает только с текстовиками в UTF-8, пришлось для тестов пересохранять из ворда в нужной кодировке, сам перекодировать пока не умеет"
   ]
  },
  {
   "cell_type": "code",
   "execution_count": 4,
   "metadata": {
    "scrolled": true
   },
   "outputs": [],
   "source": [
    "# открываем файл, кодировка utf-8\n",
    "lines = open('!eng!Серебренный_Лапин_Мокаева_ (1).txt', 'r').readlines()\n",
    "references=[]"
   ]
  },
  {
   "cell_type": "markdown",
   "metadata": {},
   "source": [
    "full_lines убирает из считанного файлы служебные символы"
   ]
  },
  {
   "cell_type": "code",
   "execution_count": 6,
   "metadata": {},
   "outputs": [],
   "source": [
    "full_lines =[]\n",
    "for i in range(len(lines)):\n",
    "    lines[i] = lines[i].replace('\\n', '')\n",
    "    lines[i] = lines[i].replace('\\t', '')\n",
    "    if len(lines[i]) != 0:\n",
    "        full_lines.append(lines[i])"
   ]
  },
  {
   "cell_type": "markdown",
   "metadata": {},
   "source": [
    "Применяем функцию отделения списка литературы к почищенному файлу"
   ]
  },
  {
   "cell_type": "code",
   "execution_count": 7,
   "metadata": {},
   "outputs": [
    {
     "name": "stdout",
     "output_type": "stream",
     "text": [
      "['\\ufeffTechnological Collaborative Robotic Systems', 'Serebrenny V.V.1, a), Lapin D.V.1, b), Mokaeva A.A.1, c), Shereuzhev M.A.1, c)', '1Bauman Moscow State Technical University, Moscow, Russia', 'c)Corresponding author: ahm.alisa@gmail.com', 'a)vsereb@bmstu.ru', 'b)lapindv@bmstu.ru', 'Annotation. The article discusses modern solutions of the assembly process automation. The Evolvable Assembly Systems (EAS) paradigm is described. EAS is aimed at creating the basis for autonomous context-sensitive and adaptable assembly systems that are able to develop with products, processes, as well as with business and social environment. Evolvability is defined as capacity of a system for adaptive evolution. In EAS, this is achieved through contextual adaptation within decentralized multi-agent control system. The features of collaborative multi-agent robotic systems paradigm are highlighted. In such systems, collaborative robots-agents (cobots) of various specialization should interact to optimize overall system performance when solving tasks that are posed by upper control level. Collaboration is considered in the sense of interaction of deterministic agents — cobots and non-deterministic agents-humans in non-deterministic multi-agent environment where cobots and humans share the same space and objects when performing joint tasks.', 'INTRODUCTION', '   Increased productivity and the desire to gain a competitive advantage is one of the main reasons for starting an automation projects in many enterprises. Other reasons for automation may be due the specific causes, such as a dangerous working environment or the high cost of human labor [1-2]. Enterprises automate processes in order to reduce production time, increase production flexibility, reduce costs, eliminate human errors, or fill labor shortages.', '   The following types of automation have been used in the field of manufacturing [3-5]: information technologies for the creation, storage and distribution of information; equipment with numerical control - programmed versions of labor tools that sequentially perform operations. For this purpose, tools may have their own computers; robots — a type of automated equipment that performs various operations that are usually handled by a person acting as an operator; flexible production systems, which are fully automated lines for the complete production cycle; computer integrated production - a system in which many production functions are connected through an integrated computer network and include production planning, quality control, automated production, computer-aided design, procurement, marketing, and other functions.', '   Now many companies use automated process control systems (APCS). This is a set of hardware and software designed to automate the management of process equipment in industrial enterprises. The components of the automated process control system can be separate automatic control systems (ACS) and automated devices connected in a single complex [6].', \"   Significant global industrial trends are consolidation of enterprises, increasing competition, rising prices for raw materials, and high profits. But the equipment of enterprises is not so high: even in the USA, approximately 60% of metallurgical companies are at the level of partial automation. In Russia, things are no better, but progress does not stand still. New solutions continue to be created. One of the examples is the Chrysler plant in Toledo, which produces more than 700 car bodies every day.  For the Toledo plant, KUKA built an intelligent system that controls the factory’s 246 assembly-line robots, along with multiple devices, applications and back-end systems that contains approximately 60,000 devices on the shop floor, such as welding and sealing equipment. All this data exchange and storage is organized in the cloud. As a result, the plant's productivity and flexibility are greatly improved, not to mention the efficiency of process control. \", \"   However, at readjustment of old industrial lines for the modern robotic equipment there are a number of the global problems involve the cardinal reorganization of processes at the enterprise that leads to increase in cost of automation [7-8]. A possible solution is the appearance of collaborative robotic systems [9] - systems that contain automatic devices that allow to perform work together with a human. Introduction of collaborative robotics in solutions for manufacturing automation processes leads, in the authors' opinion, to the reduction of the cost of readjustment works. In this article, it is proposed to consider the possibility of integrating collaborative multi-agent robotic systems into the paradigm of evolvable assembly systems.\", 'EVOLVABLE ASSEMBLY SYSTEMS ', '   The Evolvable Assembly Systems (EAS) research program is currently in development at the University of Nottingham [10, 11]. The program is aimed at creating the basis for autonomous context-dependent and adaptable assembly systems capable of developing together with products and processes, as well as with the business and social environment.  Implementation of the project will lead to a new paradigm shift in adaptable and cost effective manufacture that breaks with traditional approaches and is predicated on an innovative intertwining of the following foundational research challenges in complex collective adaptive manufacturing systems.', '   As the level and type of automation changes, future assembly systems will require operators to participate in hybrid decision making, monitoring and system adaptation. In foreign literature, this approach is called Human-Robot-Collaborative (HRC) [12-15].', '   In order to meet the new demands placed on manufacturing systems, new technologies that provide high levels of responsiveness, robustness and resilience are required. As a result, manufacturers from many sectors have investigated smart, flexible and adaptive assembly and manufacturing lines, contributing to the field known as the fourth industrial revolution [2]. Manufacturers have been driven by customer demand for customised products to change their production processes more flexible and adaptive. The first example of this is the mass customisation seen in the automotive industry, but other industries such as pharmaceutical, aerospace, and general machine building are beginning to follow suit.', '   The first approach developed for this was Flexible Manufacturing Systems (FMS) [16-19], which increases the variety of parts manufactured by the system. ', '   Other approaches aim to increase the robustness (resilience against disturbances), autonomy and self-reliance of the manufacturing system. The concept of fractal factories considers factories that are composed of self-organising small components communicating and cooperating to form decentralised self-similar hierarchies and to execute tasks [20]. Conversely, Bionic Manufacturing Systems are modelled on natural living organisms; as autonomous distributed systems where processing units are “living” components [21].', '   Holonic Manufacturing Systems (HMS) are based on the concept of a holon; an autonomous and co-operative building block. These holons form an agile manufacturing system holarchy [22]. Implementations of HMS often use autonomous cooperative intelligent agents [23], but agent-based control is used in other paradigms as well [23]. This research has led to the evolution of capital-intensive assembly lines into reactive smart assembly systems that can adapt to changes in product requirements and demand with short configuration and ramp-up times [24-25]. As shown in Figure 1, such transformable manufacturing systems should compress the capabilities of a traditional assembly line into a single transformable cell that is reconfigurable to accommodate a wide range of products and tasks, combined with a low cost of maintenance, system reconfiguration, and technology integration. The system is a combination of such production facilities as: robot groups (A, D), machine tools (B), workers (C). The EAS allows for the production of expensive, complex, diverse and small series products with minimal downtime during the changeover of the entire system.', '   ', 'FIGURE 1. Compression of an assembly line down to an assembly cell', '   ', '   A transformable manufacturing system enables the production of high-cost, high-complexity, high-variability, low-volume products more effectively than has previously been possible. The ability to adapt the system configu- ration to accommodate multiple products addresses the batch size of one problem, wherein each item produced by the system must be unique. Adaptable and uncertainty- aware fixtures and production methods allows the time between each different product to be reduced, and the non- recurring costs inherent in the deployment of single-use fixtures and systems to be eliminated. The development of multi-purpose cells also allows the compression of a line of stations down to a single cell, resulting in a massive cost, space, and throughput improvement.', 'Architectural concept', '   The development of a transformable manufacturing system requires a new architectural concept. The Evolvable Assembly Systems (EAS) project is a novel approach to a manufacturing environment that is able to respond rapidly to changes in product, process, or market [12]. The transformability of the system requires the system to be responsive to disruption at all times. In EAS this is achieved through a foundation of context-aware adaptation managed by distributed agent-based control.', '   The context-aware adaptation in EAS is cyclic in nature, as shown in Figure 2. During operation, the system re- sources are performing business as usual. Concurrently to that, the system is monitoring all aspects of the operation. The progress of parts and products through the system is tracked, with each resource updating the system as a whole as to their status and the tasks being performed. Data concerning the environment in which the system is based is also recorded and correlated against the performance data. This can then be fed back into the production process to improve efficiency or identify potential sources of faults or quality failures.', '   Once the system has gathered data and identified a possible improvement that can be made, an internal adaptation may occur. Once the state and performance of the system that has been recorded reaches a predetermined threshold, the pressure on the operation of the system may require a configuration change to either mitigate or exploit the condition. Alternatively, the system operator may define an external pressure for change. This could include a change to the product requirements (which could be minor or could involve a completely new product to be manufactured), a change to the capabilities of the resources available to the system, or changing business pressures such as a need to scale production up or down, or to conform to a change in a regulatory framework. Once this external pressure has been defined, the system will then adapt to it. The system will then generate a set of configuration changes that should be applied. Depending on how the system has been set up, these could either be automatically applied, or communicated to the operator to approve and/or deploy.', '   ', 'FIGURE 2. The adaptation cycle', 'The transformable systems control features', '   The decision-making processes in EAS are based on the shared system model shown in Figure 3 which forms the system’s perception and knowledge of the world. This model is composed of the agents’ states, the system topology, the resources in the system and the capabilities those resources provide to the system, the part tracking information gathered by the metrology in the system and contributed by the resources, the environmental data gathered by the system, and the human inputs. The model can then be viewed and used in a variety of ways, depending on what is required. ', '   As explicated in [24], the component architecture of EAS is based around an agent environment with decoupled software modules to accomplish the other phases of the cycle. The described environment is a multi- agent system [25] where the agents, i.e. autonomous pieces of software that interact with their environment through sensors and actuators and proactively act on defined goals, communicate with each other and each control a resource. The resource could be a human worker with a smart device, or could be a piece of manufacturing equipment controlled by a PLC or similar. Where the controller of the hardware is unsuitable for the agent to be deployed on it (in the case of a hardware PLC or legacy equipment), an embedded computer can be connected to it, and the agent deployed on the embedded computer. This approach allows each resource in the system to be enhanced with “intelligence” and communication capabilities, so that the shared information creates a context-aware environment with decentralized agent control. ', ' ', 'FIGURE 3. A shared system model is the basis of the system’s knowledge and decision-making', 'COLLABORATIVE MULTI-AGENT ROBOTIC SYSTEMS', '   The collaborative multi-agent robotic system (CMRS) with a hybrid control system is a system in which robots-agents of various specializations must interact to optimize the overall performance when solving problems posed by the control center [26, 27]. Collaboration is considered in the sense of the interaction of deterministic agents — robots and non-deterministic human agents in a non-deterministic multi-agent environment, where robots and humans share the same space and objects when performing joint tasks.', 'Architecture ', '   The CMRS hybrid control system includes a control center, a team of robots-agents and auxiliary equipment', '(Fig. 4). In the above CMRS scheme, a person is involved as an observer and task manager in front of the mobile robotic system (MRS), and this should take into account the involvement of people in the process of solving problems. The control center and the data processing unit contain information received by robots and data processing algorithms, monitor the execution of tasks, formalize and transmit to the robotic team a new tasks. After setting the global task, decomposition and distribution take place. If in conventional MRS it is possible to use negotiation algorithms between robots, for example, “auction”, then in CMRS it is necessary for optimally taking into account the possibility of transferring part of the functionality for performing the task to people.', 'FIGURE 4. Structure of CMRS control system', '   ', '   The control center forms the first level of the control system. It contains a command generation unit responsible for the development of the command sequence and the transfer of their robots, and a data processing unit, which receives information from the agents-robots and auxiliary information-measuring equipment. ', '   The second level is responsible for the global planning of MRS actions: decomposition of tasks to be solved by MRS into simpler tasks and their distribution among robots. The result of the corresponding algorithms is the determination of the target point coordinates for each robot. ', '   The third level provides the formation of robot motion trajectories using local planning algorithms based on the analogue of the potential method. To form the trajectories of motion it is necessary to determine the current coordinates of robots in the working space, this task is solved by the combined navigation system.', '   The fourth level (executive) carries out direct interaction with all elements of CMRS and the environment, it is responsible for the development of control signals for the drives of robots, navigation sensors, special and auxiliary equipment, supports the sensor system.', '   With a large number of robots included in the group, centralized control has a number of drawbacks, among which we can highlight the total increased vulnerability of the system, as any error of the central calculator will lead to the failure of all elements of the system, a large load on the communication channels and high requirements for the improvement of the algorithm of internal distribution of calculations. In addition, the specifics of centralized management can significantly slow down the system response to rapid changes in the local parameters of the working areas.', '   These drawbacks are deprived of the second approach to task distribution in the group of robots - multi-agent (distributed) management, when agents independently distribute tasks among themselves during negotiations.', 'The features of CMRS control system', '   Collaboration among agents-robots and agent-humans should be characterized as teamwork. Participants have the same goal and a common plan to achieve it. The plan of interaction (collaboration) between humans and robots within the framework of a common goal is not limited to the sum of individual plans for each agent, but consists of a set of actions that are part of the activities of the agents. It follows that not all actions of people and the executive system of robots are relevant for the solution of a common task.', '   For cobot in CMRS, situational interaction with a person is typical, which places new demands on the architecture of their control system, in particular, the traffic planning system, knowledge models, and communication systems.', '   Auction negotiation model is a method for multi-agent tasks distribution for a non-collaborative system. The method based on the iterative exchange of information between individual agents [27]. High-level control system put for “sale” some of the resources needed to achieve the goal by several agents. These resources are limited, so agents compete with each other in the \"bidding\" process. The possibilities of “buying” resources by agents are also limited, and its feasibility is evaluated by the utility function of the resource (optimality criterion), which, as a rule, is calculated as the difference between the “income” from the use of the resource and the cost of its “purchase”. At the auction, one of the agents plays a special role as a leader (auctioneer).', '   Effective decomposition of tasks and organization of interaction between humans and robots assumedly are possible if the semantics of the robot will be on a human level [26, 28].', \"   The CMRS architecture with the required level of semantics we represent as the interaction of an active knowledge base, the system for forming the environment model, the natural language processing module and the executive system controller. The knowledge base presents a semantic board of accumulating symbolic facts about the environment. System of forming a model of the environment generates symbolic facts about the environment. The language-processing module, the symbolic (formal-logical) task scheduler and the executive system controller request logical statements that need to be stored in the knowledge base. The system stores output of the language-processing module and the robot's action as symbolic operators.\", ' ', 'FIGURE 6. Structural scheme of the CMRS control system', '   ', '   Such architecture is the architecture of \"Beliefs, desires, intentions\" (Beliefs, Desires, and Intentions - BDI) [29], which mainly focused on a phased decision-making process about the action that CMRS must perform to achieve the goal. Managing the interaction between knowledge (beliefs), the presentation and execution of the task and plan (desires and intentions) is executes in computational center. Aim of the center is choosing the best sub-goal at each step. Then it becomes the intention that the robot makes. As for any cognitive system, this is a fundamental interaction between knowledge and actions and usually includes a dialogue module for informing about the desires of other agents. The scheduler and the execution controller first decide to take into account (or not take into account) the incoming desire as a goal, and then generate and manage intentions of these goals through a symbolic (formal-logical) task scheduler', '   Control of autonomous mobile robots by the operator acquires the character of setting tasks and dialogue accompanying their performance. At the same time, \"natural\" from a human\\'s point of view spatial and temporal relations should be used [26], which significantly facilitates the task of robot control. It is expedient to use methods of fuzzy logic to organize the dialog management of a mobile robot. These methods proved to be very effective for describing the external world and the current situation with the help of linguistic variables. The development of this approach, as applied to the task of robot control, consists in finding a \"natural\" assessment of the situation in the same sense and making a decision that determines the robot\\'s behavior in uncertain conditions.', 'CONCLUSION', '   Along with automation, full or partial, the authors suggest to consider approaches of the industry robotization, where robotization is a kind of interaction between human and CMRS. In such a system, robotic and human agents are equal participants of the manufacturing process, and, consequently, retain the ability to perform operations simultaneously in a shared workspace. Especially critical is the technology being developed to solve the problems of robotization of complex stages of the product life cycle, in particular, picking and assembly of products, sorting and transportation, which require the presence of an operator. Since full automation of such technological operations requires significant labor contribution, the proposed solution is a timely decision to increase the efficiency of the production cycle, which allows to overcome one of the technological barriers of the Industry 4.0 paradigm [2].  The results of this research will be used in the development of a control system for a collaborative robotic assembly cell.', 'REFERENCE`S', '1. Serebrenny, V., Shereuzhev, M., & Metasov, I. (2018). Approaches to the robotization of agricultural mobile machines. In MATEC Web of Conferences (Vol. 161, p. 03014). EDP Sciences. ', '2. Postanovlenie Pravitel\\'stva Rossijskoj Federacii ot 18 aprelja 2016 g. N 317 «O realizacii nacional\\'noj tehnologicheskoj iniciativy». [Resolution of the Government of the Russian Federation of April 18, 2016 N 317 \"On the implementation of the national technology initiative\"]. Retrieved from http://www.nti2035.ru/documents/Normative/ (accessed 25.12.2018). (In Russ.).', '3. Kagermann, H., Wahlster, W., & Helbig, J. (2013). Umsetzungsempfehlungen für das Zukunftsprojekt Industrie 4.0. Abschlussbericht des Arbeitskreises Industrie, 4(5).', '4. Wang, L., Törngren, M., & Onori, M. (2015). Current status and advancement of cyber-physical systems in manufacturing.\\xa0Journal of Manufacturing Systems,\\xa037, 517-527.', '5. C Chase, R. B., Aquilano, N. J., & Jacobs, F. R. (1998).\\xa0Production and operations management. Irwin/McGraw-Hill.', '6. Voronov, E. M., & Serov, V. A. (2019). A Coordinated Stable-Effective Compromises Based Methodology of Design and Control in Multi-object Systems. In\\xa0Smart Electromechanical Systems\\xa0(pp. 147-157). Springer, Cham.', '7. Glushchenko, F., & Fedotova, A. (2018, October). Developing automotive production with using product lifecycle management system. In\\xa02018 2nd School on Dynamics of Complex Networks and their Application in Intellectual Robotics (DCNAIR)\\xa0(pp. 38-40). IEEE.', '8. Cherubini, A., Passama, R., Crosnier, A., Lasnier, A., & Fraisse, P. (2016). Collaborative manufacturing with physical human–robot interaction.\\xa0Robotics and Computer-Integrated Manufacturing,\\xa040, 1-13.', '9. Colgate, J. E., & Peshkin, M. A. (1999).\\xa0U.S. Patent No. 5,952,796. Washington, DC: U.S. Patent and Trademark Office.', '10. Bratuhin A.G. Prioritety aviacionnyh tekhnologij v 2-h kn/M.: Izd-vo MAI, 1-12 (In Russ.).', '11. Evolvable Assembly Systems - towards open, adaptable and context-aware equipment and systems. Retrieved from https://gtr.ukri.org/projects?ref=EP%2FK018205%2F1 ', '12. Chaplin, J. C., Bakker, O. J., de Silva, L., Sanderson, D., Kelly, E., Logan, B., & Ratchev, S. M. (2015). Evolvable assembly systems: a distributed architecture for intelligent manufacturing.\\xa0IFAC-PapersOnLine,\\xa048(3), 2065-2070.', '13. Antzoulatos, N., Castro, E., de Silva, L., Rocha, A. D., Ratchev, S., & Barata, J. (2017). A multi-agent framework for capability-based reconfiguration of industrial assembly systems.\\xa0International Journal of Production Research,\\xa055(10), 2950-2960.', '14. Michalos, G., Spiliotopoulos, J., Makris, S., & Chryssolouris, G. (2018). A method for planning human robot shared tasks.\\xa0CIRP Journal of Manufacturing Science and Technology,\\xa022, 76-90.', '15. Marvel, J. A., Bostelman, R., & Falco, J. (2018). Multi-robot assembly strategies and metrics.\\xa0ACM Computing Surveys (CSUR),\\xa051(1), 14.', '16. Ranz, F., Hummel, V., & Sihn, W. (2017). Capability-based task allocation in human-robot collaboration.\\xa0Procedia Manufacturing,\\xa09, 182-189. ', '17. Teiwes, J., Bänziger, T., Kunz, A., & Wegener, K. (2016, September). Identifying the potential of human-robot collaboration in automotive assembly lines using a standardised work description. In\\xa02016 22nd International Conference on Automation and Computing (ICAC)\\xa0(pp. 78-83). IEEE.', '18. Hajduk, M., Sukop, M., Semjon, J., Jánoš, R., Varga, J., & Vagaš, M. (2018). Principles of Formation of Flexible Manufacturing Systems.\\xa0Tehnički vjesnik,\\xa025(3), 649-654.', '19. Jiménez, C. H. O., Villatoro, M. A. C., & Salinas, I. E. RMS in Production Management.', '20. Dashchenko, A. I. (Ed.). (2006).\\xa0Reconfigurable manufacturing systems and transformable factories\\xa0(pp. 111-140). Berlin: Springer.', '21. Zhang, J., Yao, X., Zhou, J., Jiang, J., & Chen, X. (2017, September). Self-organizing manufacturing: Current status and prospect for Industry 4.0. In\\xa02017 5th International Conference on Enterprise Systems (ES)\\xa0(pp. 319-326). IEEE.', '22. Salazar, L. A. C., Alvarado, O. A. R., & Chacón, E. (2018, June). Implementing Industrial Control Automation for Holonic Manufacturing Systems Based on the Production Unit Architecture. In\\xa0International Workshop on Service Orientation in Holonic and Multi-Agent Manufacturing\\xa0(pp. 233-246). Springer, Cham. ', '23. Wooldridge, M., & Jennings, N. R. (1995). Intelligent agents: Theory and practice.\\xa0The knowledge engineering review,\\xa010(2), 115-152.', '24. Drouot, A., Irving, L., Sanderson, D., Smith, A., & Ratchev, S. (2017). A transformable manufacturing concept for low-volume aerospace assembly.\\xa0IFAC-PapersOnLine,\\xa050(1), 5712-5717.', '25. Drouot, A., Zhao, R., Irving, L., Sanderson, D., & Ratchev, S. (2018). Measurement assisted assembly for high accuracy aerospace manufacturing.\\xa0IFAC-PapersOnLine,\\xa051(11), 393-398.', '26. Vorotnikov, S., Ermishin, K., Nazarova, A., & Yuschenko, A. (2018, September). Multi-agent Robotic Systems in Collaborative Robotics. In\\xa0International Conference on Interactive Collaborative Robotics\\xa0(pp. 270-279). Springer, Cham.', '27. Zenkevich, S. L., Nazarova, A. V., & Zhu, H. (2019). Logical Control a Group of Mobile Robots. In\\xa0Smart Electromechanical Systems(pp. 31-43). Springer, Cham.', '28. Lemaignan, S., Warnier, M., Sisbot, E. A., Clodic, A., & Alami, R. (2017). Artificial cognition for social human–robot interaction: An implementation.\\xa0Artificial Intelligence,\\xa0247, 45-69.', '29. Pellegrinelli, S., Admoni, H., Javdani, S., & Srinivasa, S. (2016, October). Human-robot shared workspace collaboration via hindsight optimization. In\\xa02016 IEEE/RSJ International Conference on Intelligent Robots and Systems (IROS)\\xa0(pp. 831-838). IEEE.']\n"
     ]
    },
    {
     "data": {
      "text/plain": [
       "['1. Serebrenny, V., Shereuzhev, M., & Metasov, I. (2018). Approaches to the robotization of agricultural mobile machines. In MATEC Web of Conferences (Vol. 161, p. 03014). EDP Sciences. ',\n",
       " '2. Postanovlenie Pravitel\\'stva Rossijskoj Federacii ot 18 aprelja 2016 g. N 317 «O realizacii nacional\\'noj tehnologicheskoj iniciativy». [Resolution of the Government of the Russian Federation of April 18, 2016 N 317 \"On the implementation of the national technology initiative\"]. Retrieved from http://www.nti2035.ru/documents/Normative/ (accessed 25.12.2018). (In Russ.).',\n",
       " '3. Kagermann, H., Wahlster, W., & Helbig, J. (2013). Umsetzungsempfehlungen für das Zukunftsprojekt Industrie 4.0. Abschlussbericht des Arbeitskreises Industrie, 4(5).',\n",
       " '4. Wang, L., Törngren, M., & Onori, M. (2015). Current status and advancement of cyber-physical systems in manufacturing.\\xa0Journal of Manufacturing Systems,\\xa037, 517-527.',\n",
       " '5. C Chase, R. B., Aquilano, N. J., & Jacobs, F. R. (1998).\\xa0Production and operations management. Irwin/McGraw-Hill.',\n",
       " '6. Voronov, E. M., & Serov, V. A. (2019). A Coordinated Stable-Effective Compromises Based Methodology of Design and Control in Multi-object Systems. In\\xa0Smart Electromechanical Systems\\xa0(pp. 147-157). Springer, Cham.',\n",
       " '7. Glushchenko, F., & Fedotova, A. (2018, October). Developing automotive production with using product lifecycle management system. In\\xa02018 2nd School on Dynamics of Complex Networks and their Application in Intellectual Robotics (DCNAIR)\\xa0(pp. 38-40). IEEE.',\n",
       " '8. Cherubini, A., Passama, R., Crosnier, A., Lasnier, A., & Fraisse, P. (2016). Collaborative manufacturing with physical human–robot interaction.\\xa0Robotics and Computer-Integrated Manufacturing,\\xa040, 1-13.',\n",
       " '9. Colgate, J. E., & Peshkin, M. A. (1999).\\xa0U.S. Patent No. 5,952,796. Washington, DC: U.S. Patent and Trademark Office.',\n",
       " '10. Bratuhin A.G. Prioritety aviacionnyh tekhnologij v 2-h kn/M.: Izd-vo MAI, 1-12 (In Russ.).',\n",
       " '11. Evolvable Assembly Systems - towards open, adaptable and context-aware equipment and systems. Retrieved from https://gtr.ukri.org/projects?ref=EP%2FK018205%2F1 ',\n",
       " '12. Chaplin, J. C., Bakker, O. J., de Silva, L., Sanderson, D., Kelly, E., Logan, B., & Ratchev, S. M. (2015). Evolvable assembly systems: a distributed architecture for intelligent manufacturing.\\xa0IFAC-PapersOnLine,\\xa048(3), 2065-2070.',\n",
       " '13. Antzoulatos, N., Castro, E., de Silva, L., Rocha, A. D., Ratchev, S., & Barata, J. (2017). A multi-agent framework for capability-based reconfiguration of industrial assembly systems.\\xa0International Journal of Production Research,\\xa055(10), 2950-2960.',\n",
       " '14. Michalos, G., Spiliotopoulos, J., Makris, S., & Chryssolouris, G. (2018). A method for planning human robot shared tasks.\\xa0CIRP Journal of Manufacturing Science and Technology,\\xa022, 76-90.',\n",
       " '15. Marvel, J. A., Bostelman, R., & Falco, J. (2018). Multi-robot assembly strategies and metrics.\\xa0ACM Computing Surveys (CSUR),\\xa051(1), 14.',\n",
       " '16. Ranz, F., Hummel, V., & Sihn, W. (2017). Capability-based task allocation in human-robot collaboration.\\xa0Procedia Manufacturing,\\xa09, 182-189. ',\n",
       " '17. Teiwes, J., Bänziger, T., Kunz, A., & Wegener, K. (2016, September). Identifying the potential of human-robot collaboration in automotive assembly lines using a standardised work description. In\\xa02016 22nd International Conference on Automation and Computing (ICAC)\\xa0(pp. 78-83). IEEE.',\n",
       " '18. Hajduk, M., Sukop, M., Semjon, J., Jánoš, R., Varga, J., & Vagaš, M. (2018). Principles of Formation of Flexible Manufacturing Systems.\\xa0Tehnički vjesnik,\\xa025(3), 649-654.',\n",
       " '19. Jiménez, C. H. O., Villatoro, M. A. C., & Salinas, I. E. RMS in Production Management.',\n",
       " '20. Dashchenko, A. I. (Ed.). (2006).\\xa0Reconfigurable manufacturing systems and transformable factories\\xa0(pp. 111-140). Berlin: Springer.',\n",
       " '21. Zhang, J., Yao, X., Zhou, J., Jiang, J., & Chen, X. (2017, September). Self-organizing manufacturing: Current status and prospect for Industry 4.0. In\\xa02017 5th International Conference on Enterprise Systems (ES)\\xa0(pp. 319-326). IEEE.',\n",
       " '22. Salazar, L. A. C., Alvarado, O. A. R., & Chacón, E. (2018, June). Implementing Industrial Control Automation for Holonic Manufacturing Systems Based on the Production Unit Architecture. In\\xa0International Workshop on Service Orientation in Holonic and Multi-Agent Manufacturing\\xa0(pp. 233-246). Springer, Cham. ',\n",
       " '23. Wooldridge, M., & Jennings, N. R. (1995). Intelligent agents: Theory and practice.\\xa0The knowledge engineering review,\\xa010(2), 115-152.',\n",
       " '24. Drouot, A., Irving, L., Sanderson, D., Smith, A., & Ratchev, S. (2017). A transformable manufacturing concept for low-volume aerospace assembly.\\xa0IFAC-PapersOnLine,\\xa050(1), 5712-5717.',\n",
       " '25. Drouot, A., Zhao, R., Irving, L., Sanderson, D., & Ratchev, S. (2018). Measurement assisted assembly for high accuracy aerospace manufacturing.\\xa0IFAC-PapersOnLine,\\xa051(11), 393-398.',\n",
       " '26. Vorotnikov, S., Ermishin, K., Nazarova, A., & Yuschenko, A. (2018, September). Multi-agent Robotic Systems in Collaborative Robotics. In\\xa0International Conference on Interactive Collaborative Robotics\\xa0(pp. 270-279). Springer, Cham.',\n",
       " '27. Zenkevich, S. L., Nazarova, A. V., & Zhu, H. (2019). Logical Control a Group of Mobile Robots. In\\xa0Smart Electromechanical Systems(pp. 31-43). Springer, Cham.',\n",
       " '28. Lemaignan, S., Warnier, M., Sisbot, E. A., Clodic, A., & Alami, R. (2017). Artificial cognition for social human–robot interaction: An implementation.\\xa0Artificial Intelligence,\\xa0247, 45-69.',\n",
       " '29. Pellegrinelli, S., Admoni, H., Javdani, S., & Srinivasa, S. (2016, October). Human-robot shared workspace collaboration via hindsight optimization. In\\xa02016 IEEE/RSJ International Conference on Intelligent Robots and Systems (IROS)\\xa0(pp. 831-838). IEEE.',\n",
       " '1. Serebrenny, V., Shereuzhev, M., & Metasov, I. (2018). Approaches to the robotization of agricultural mobile machines. In MATEC Web of Conferences (Vol. 161, p. 03014). EDP Sciences. ',\n",
       " '2. Postanovlenie Pravitel\\'stva Rossijskoj Federacii ot 18 aprelja 2016 g. N 317 «O realizacii nacional\\'noj tehnologicheskoj iniciativy». [Resolution of the Government of the Russian Federation of April 18, 2016 N 317 \"On the implementation of the national technology initiative\"]. Retrieved from http://www.nti2035.ru/documents/Normative/ (accessed 25.12.2018). (In Russ.).',\n",
       " '3. Kagermann, H., Wahlster, W., & Helbig, J. (2013). Umsetzungsempfehlungen für das Zukunftsprojekt Industrie 4.0. Abschlussbericht des Arbeitskreises Industrie, 4(5).',\n",
       " '4. Wang, L., Törngren, M., & Onori, M. (2015). Current status and advancement of cyber-physical systems in manufacturing.\\xa0Journal of Manufacturing Systems,\\xa037, 517-527.',\n",
       " '5. C Chase, R. B., Aquilano, N. J., & Jacobs, F. R. (1998).\\xa0Production and operations management. Irwin/McGraw-Hill.',\n",
       " '6. Voronov, E. M., & Serov, V. A. (2019). A Coordinated Stable-Effective Compromises Based Methodology of Design and Control in Multi-object Systems. In\\xa0Smart Electromechanical Systems\\xa0(pp. 147-157). Springer, Cham.',\n",
       " '7. Glushchenko, F., & Fedotova, A. (2018, October). Developing automotive production with using product lifecycle management system. In\\xa02018 2nd School on Dynamics of Complex Networks and their Application in Intellectual Robotics (DCNAIR)\\xa0(pp. 38-40). IEEE.',\n",
       " '8. Cherubini, A., Passama, R., Crosnier, A., Lasnier, A., & Fraisse, P. (2016). Collaborative manufacturing with physical human–robot interaction.\\xa0Robotics and Computer-Integrated Manufacturing,\\xa040, 1-13.',\n",
       " '9. Colgate, J. E., & Peshkin, M. A. (1999).\\xa0U.S. Patent No. 5,952,796. Washington, DC: U.S. Patent and Trademark Office.',\n",
       " '10. Bratuhin A.G. Prioritety aviacionnyh tekhnologij v 2-h kn/M.: Izd-vo MAI, 1-12 (In Russ.).',\n",
       " '11. Evolvable Assembly Systems - towards open, adaptable and context-aware equipment and systems. Retrieved from https://gtr.ukri.org/projects?ref=EP%2FK018205%2F1 ',\n",
       " '12. Chaplin, J. C., Bakker, O. J., de Silva, L., Sanderson, D., Kelly, E., Logan, B., & Ratchev, S. M. (2015). Evolvable assembly systems: a distributed architecture for intelligent manufacturing.\\xa0IFAC-PapersOnLine,\\xa048(3), 2065-2070.',\n",
       " '13. Antzoulatos, N., Castro, E., de Silva, L., Rocha, A. D., Ratchev, S., & Barata, J. (2017). A multi-agent framework for capability-based reconfiguration of industrial assembly systems.\\xa0International Journal of Production Research,\\xa055(10), 2950-2960.',\n",
       " '14. Michalos, G., Spiliotopoulos, J., Makris, S., & Chryssolouris, G. (2018). A method for planning human robot shared tasks.\\xa0CIRP Journal of Manufacturing Science and Technology,\\xa022, 76-90.',\n",
       " '15. Marvel, J. A., Bostelman, R., & Falco, J. (2018). Multi-robot assembly strategies and metrics.\\xa0ACM Computing Surveys (CSUR),\\xa051(1), 14.',\n",
       " '16. Ranz, F., Hummel, V., & Sihn, W. (2017). Capability-based task allocation in human-robot collaboration.\\xa0Procedia Manufacturing,\\xa09, 182-189. ',\n",
       " '17. Teiwes, J., Bänziger, T., Kunz, A., & Wegener, K. (2016, September). Identifying the potential of human-robot collaboration in automotive assembly lines using a standardised work description. In\\xa02016 22nd International Conference on Automation and Computing (ICAC)\\xa0(pp. 78-83). IEEE.',\n",
       " '18. Hajduk, M., Sukop, M., Semjon, J., Jánoš, R., Varga, J., & Vagaš, M. (2018). Principles of Formation of Flexible Manufacturing Systems.\\xa0Tehnički vjesnik,\\xa025(3), 649-654.',\n",
       " '19. Jiménez, C. H. O., Villatoro, M. A. C., & Salinas, I. E. RMS in Production Management.',\n",
       " '20. Dashchenko, A. I. (Ed.). (2006).\\xa0Reconfigurable manufacturing systems and transformable factories\\xa0(pp. 111-140). Berlin: Springer.',\n",
       " '21. Zhang, J., Yao, X., Zhou, J., Jiang, J., & Chen, X. (2017, September). Self-organizing manufacturing: Current status and prospect for Industry 4.0. In\\xa02017 5th International Conference on Enterprise Systems (ES)\\xa0(pp. 319-326). IEEE.',\n",
       " '22. Salazar, L. A. C., Alvarado, O. A. R., & Chacón, E. (2018, June). Implementing Industrial Control Automation for Holonic Manufacturing Systems Based on the Production Unit Architecture. In\\xa0International Workshop on Service Orientation in Holonic and Multi-Agent Manufacturing\\xa0(pp. 233-246). Springer, Cham. ',\n",
       " '23. Wooldridge, M., & Jennings, N. R. (1995). Intelligent agents: Theory and practice.\\xa0The knowledge engineering review,\\xa010(2), 115-152.',\n",
       " '24. Drouot, A., Irving, L., Sanderson, D., Smith, A., & Ratchev, S. (2017). A transformable manufacturing concept for low-volume aerospace assembly.\\xa0IFAC-PapersOnLine,\\xa050(1), 5712-5717.',\n",
       " '25. Drouot, A., Zhao, R., Irving, L., Sanderson, D., & Ratchev, S. (2018). Measurement assisted assembly for high accuracy aerospace manufacturing.\\xa0IFAC-PapersOnLine,\\xa051(11), 393-398.',\n",
       " '26. Vorotnikov, S., Ermishin, K., Nazarova, A., & Yuschenko, A. (2018, September). Multi-agent Robotic Systems in Collaborative Robotics. In\\xa0International Conference on Interactive Collaborative Robotics\\xa0(pp. 270-279). Springer, Cham.',\n",
       " '27. Zenkevich, S. L., Nazarova, A. V., & Zhu, H. (2019). Logical Control a Group of Mobile Robots. In\\xa0Smart Electromechanical Systems(pp. 31-43). Springer, Cham.',\n",
       " '28. Lemaignan, S., Warnier, M., Sisbot, E. A., Clodic, A., & Alami, R. (2017). Artificial cognition for social human–robot interaction: An implementation.\\xa0Artificial Intelligence,\\xa0247, 45-69.',\n",
       " '29. Pellegrinelli, S., Admoni, H., Javdani, S., & Srinivasa, S. (2016, October). Human-robot shared workspace collaboration via hindsight optimization. In\\xa02016 IEEE/RSJ International Conference on Intelligent Robots and Systems (IROS)\\xa0(pp. 831-838). IEEE.']"
      ]
     },
     "execution_count": 7,
     "metadata": {},
     "output_type": "execute_result"
    }
   ],
   "source": [
    "ref_sep(full_lines)"
   ]
  },
  {
   "cell_type": "markdown",
   "metadata": {},
   "source": [
    "Ищем в списке литературы любое упоминанение года 16-20"
   ]
  },
  {
   "cell_type": "code",
   "execution_count": 84,
   "metadata": {
    "scrolled": false
   },
   "outputs": [
    {
     "name": "stdout",
     "output_type": "stream",
     "text": [
      "1. Serebrenny, V., Shereuzhev, M., & Metasov, I. (2018). Approaches to the robotization of agricultural mobile machines. In MATEC Web of Conferences (Vol. 161, p. 03014). EDP Sciences. \n",
      "2. Postanovlenie Pravitel'stva Rossijskoj Federacii ot 18 aprelja 2016 g. N 317 «O realizacii nacional'noj tehnologicheskoj iniciativy». [Resolution of the Government of the Russian Federation of April 18, 2016 N 317 \"On the implementation of the national technology initiative\"]. Retrieved from http://www.nti2035.ru/documents/Normative/ (accessed 25.12.2018). (In Russ.).\n",
      "6. Voronov, E. M., & Serov, V. A. (2019). A Coordinated Stable-Effective Compromises Based Methodology of Design and Control in Multi-object Systems. In Smart Electromechanical Systems (pp. 147-157). Springer, Cham.\n",
      "7. Glushchenko, F., & Fedotova, A. (2018, October). Developing automotive production with using product lifecycle management system. In 2018 2nd School on Dynamics of Complex Networks and their Application in Intellectual Robotics (DCNAIR) (pp. 38-40). IEEE.\n",
      "8. Cherubini, A., Passama, R., Crosnier, A., Lasnier, A., & Fraisse, P. (2016). Collaborative manufacturing with physical human–robot interaction. Robotics and Computer-Integrated Manufacturing, 40, 1-13.\n",
      "13. Antzoulatos, N., Castro, E., de Silva, L., Rocha, A. D., Ratchev, S., & Barata, J. (2017). A multi-agent framework for capability-based reconfiguration of industrial assembly systems. International Journal of Production Research, 55(10), 2950-2960.\n",
      "14. Michalos, G., Spiliotopoulos, J., Makris, S., & Chryssolouris, G. (2018). A method for planning human robot shared tasks. CIRP Journal of Manufacturing Science and Technology, 22, 76-90.\n",
      "15. Marvel, J. A., Bostelman, R., & Falco, J. (2018). Multi-robot assembly strategies and metrics. ACM Computing Surveys (CSUR), 51(1), 14.\n",
      "16. Ranz, F., Hummel, V., & Sihn, W. (2017). Capability-based task allocation in human-robot collaboration. Procedia Manufacturing, 9, 182-189. \n",
      "17. Teiwes, J., Bänziger, T., Kunz, A., & Wegener, K. (2016, September). Identifying the potential of human-robot collaboration in automotive assembly lines using a standardised work description. In 2016 22nd International Conference on Automation and Computing (ICAC) (pp. 78-83). IEEE.\n",
      "18. Hajduk, M., Sukop, M., Semjon, J., Jánoš, R., Varga, J., & Vagaš, M. (2018). Principles of Formation of Flexible Manufacturing Systems. Tehnički vjesnik, 25(3), 649-654.\n",
      "21. Zhang, J., Yao, X., Zhou, J., Jiang, J., & Chen, X. (2017, September). Self-organizing manufacturing: Current status and prospect for Industry 4.0. In 2017 5th International Conference on Enterprise Systems (ES) (pp. 319-326). IEEE.\n",
      "22. Salazar, L. A. C., Alvarado, O. A. R., & Chacón, E. (2018, June). Implementing Industrial Control Automation for Holonic Manufacturing Systems Based on the Production Unit Architecture. In International Workshop on Service Orientation in Holonic and Multi-Agent Manufacturing (pp. 233-246). Springer, Cham. \n",
      "24. Drouot, A., Irving, L., Sanderson, D., Smith, A., & Ratchev, S. (2017). A transformable manufacturing concept for low-volume aerospace assembly. IFAC-PapersOnLine, 50(1), 5712-5717.\n",
      "25. Drouot, A., Zhao, R., Irving, L., Sanderson, D., & Ratchev, S. (2018). Measurement assisted assembly for high accuracy aerospace manufacturing. IFAC-PapersOnLine, 51(11), 393-398.\n",
      "26. Vorotnikov, S., Ermishin, K., Nazarova, A., & Yuschenko, A. (2018, September). Multi-agent Robotic Systems in Collaborative Robotics. In International Conference on Interactive Collaborative Robotics (pp. 270-279). Springer, Cham.\n",
      "27. Zenkevich, S. L., Nazarova, A. V., & Zhu, H. (2019). Logical Control a Group of Mobile Robots. In Smart Electromechanical Systems(pp. 31-43). Springer, Cham.\n",
      "28. Lemaignan, S., Warnier, M., Sisbot, E. A., Clodic, A., & Alami, R. (2017). Artificial cognition for social human–robot interaction: An implementation. Artificial Intelligence, 247, 45-69.\n",
      "29. Pellegrinelli, S., Admoni, H., Javdani, S., & Srinivasa, S. (2016, October). Human-robot shared workspace collaboration via hindsight optimization. In 2016 IEEE/RSJ International Conference on Intelligent Robots and Systems (IROS) (pp. 831-838). IEEE.\n"
     ]
    }
   ],
   "source": [
    "# поиск актуальных источников\n",
    "fresh=[]\n",
    "for line in references:\n",
    "        if '2016' in line:\n",
    "            fresh.append(line)\n",
    "        elif '2017' in line:\n",
    "            fresh.append(line)\n",
    "        elif '2018' in line:\n",
    "            fresh.append(line)\n",
    "        elif '2019' in line:\n",
    "            fresh.append(line)\n",
    "        elif '2020' in line:\n",
    "            fresh.append(line)\n",
    "for i in fresh:\n",
    "    print(i)"
   ]
  },
  {
   "cell_type": "markdown",
   "metadata": {},
   "source": [
    "Дальше если есть DOI, то ищем в базе по DOI. Но, как показывает практика, таких статей супермало, поэтому проверку по DOI можно и не проводить."
   ]
  },
  {
   "cell_type": "code",
   "execution_count": 8,
   "metadata": {},
   "outputs": [
    {
     "data": {
      "text/plain": [
       "[]"
      ]
     },
     "execution_count": 8,
     "metadata": {},
     "output_type": "execute_result"
    }
   ],
   "source": [
    "#есть ли в строке источника DOI, записываем в doi_to_check что будем искать в базе\n",
    "doi=[]\n",
    "doi_to_check=[]\n",
    "for line in references:\n",
    "    doi.append(line.partition(' 10.'))\n",
    "for i in doi:\n",
    "    if i[2]!='':\n",
    "        doi_to_check.append(i[2][:-1])# [1:-2] запись DOI без пробела спереди и точки в конце\n",
    "for i in range(len(doi_to_check)):\n",
    "    if doi_to_check[i][-1]=='.':\n",
    "        doi_to_check[i] = doi_to_check[i][:-1]\n",
    "doi_to_check"
   ]
  },
  {
   "cell_type": "code",
   "execution_count": 9,
   "metadata": {
    "scrolled": false
   },
   "outputs": [
    {
     "name": "stdout",
     "output_type": "stream",
     "text": [
      "0\n"
     ]
    }
   ],
   "source": [
    "#Находим статьи по DOI и считаем количество\n",
    "count=0\n",
    "for i in scopus['DOI']:\n",
    "    for j in range(len(doi_to_check)):\n",
    "        if doi_to_check[j] in str(i):\n",
    "            count+=1\n",
    "print(count)"
   ]
  },
  {
   "cell_type": "markdown",
   "metadata": {},
   "source": [
    "Вот здесь начинается самое интересное: надо отделить в строке с источником его название от фамилий и журнала."
   ]
  },
  {
   "cell_type": "markdown",
   "metadata": {},
   "source": [
    "В этом варианте беру первые 5 слов - вылетает, их может быть меньше."
   ]
  },
  {
   "cell_type": "code",
   "execution_count": 10,
   "metadata": {
    "scrolled": false
   },
   "outputs": [
    {
     "ename": "NameError",
     "evalue": "name 'fresh' is not defined",
     "output_type": "error",
     "traceback": [
      "\u001b[0;31m---------------------------------------------------------------------------\u001b[0m",
      "\u001b[0;31mNameError\u001b[0m                                 Traceback (most recent call last)",
      "\u001b[0;32m<ipython-input-10-24dbf4fd3b52>\u001b[0m in \u001b[0;36m<module>\u001b[0;34m\u001b[0m\n\u001b[1;32m      2\u001b[0m \u001b[0mtitle\u001b[0m\u001b[0;34m=\u001b[0m\u001b[0;34m[\u001b[0m\u001b[0;34m]\u001b[0m\u001b[0;34m\u001b[0m\u001b[0;34m\u001b[0m\u001b[0m\n\u001b[1;32m      3\u001b[0m \u001b[0mtitles_to_check\u001b[0m\u001b[0;34m=\u001b[0m\u001b[0;34m[\u001b[0m\u001b[0;34m]\u001b[0m\u001b[0;34m\u001b[0m\u001b[0;34m\u001b[0m\u001b[0m\n\u001b[0;32m----> 4\u001b[0;31m \u001b[0;32mfor\u001b[0m \u001b[0mline\u001b[0m \u001b[0;32min\u001b[0m \u001b[0mfresh\u001b[0m\u001b[0;34m:\u001b[0m\u001b[0;34m\u001b[0m\u001b[0;34m\u001b[0m\u001b[0m\n\u001b[0m\u001b[1;32m      5\u001b[0m     \u001b[0mtitle\u001b[0m \u001b[0;34m=\u001b[0m \u001b[0mre\u001b[0m\u001b[0;34m.\u001b[0m\u001b[0mfindall\u001b[0m\u001b[0;34m(\u001b[0m\u001b[0;34mr'(\\w+)\\b '\u001b[0m\u001b[0;34m,\u001b[0m \u001b[0mline\u001b[0m\u001b[0;34m)\u001b[0m\u001b[0;34m\u001b[0m\u001b[0;34m\u001b[0m\u001b[0m\n\u001b[1;32m      6\u001b[0m     \u001b[0mwords\u001b[0m \u001b[0;34m=\u001b[0m \u001b[0mtitle\u001b[0m\u001b[0;34m[\u001b[0m\u001b[0;36m0\u001b[0m\u001b[0;34m]\u001b[0m\u001b[0;34m+\u001b[0m\u001b[0;34m' '\u001b[0m\u001b[0;34m+\u001b[0m\u001b[0mtitle\u001b[0m\u001b[0;34m[\u001b[0m\u001b[0;36m1\u001b[0m\u001b[0;34m]\u001b[0m\u001b[0;34m+\u001b[0m\u001b[0;34m' '\u001b[0m\u001b[0;34m+\u001b[0m\u001b[0mtitle\u001b[0m\u001b[0;34m[\u001b[0m\u001b[0;36m2\u001b[0m\u001b[0;34m]\u001b[0m\u001b[0;34m+\u001b[0m\u001b[0;34m' '\u001b[0m\u001b[0;34m+\u001b[0m\u001b[0mtitle\u001b[0m\u001b[0;34m[\u001b[0m\u001b[0;36m3\u001b[0m\u001b[0;34m]\u001b[0m\u001b[0;34m+\u001b[0m\u001b[0;34m' '\u001b[0m\u001b[0;34m+\u001b[0m\u001b[0mtitle\u001b[0m\u001b[0;34m[\u001b[0m\u001b[0;36m4\u001b[0m\u001b[0;34m]\u001b[0m\u001b[0;34m+\u001b[0m\u001b[0;34m' '\u001b[0m\u001b[0;34m+\u001b[0m\u001b[0mtitle\u001b[0m\u001b[0;34m[\u001b[0m\u001b[0;36m5\u001b[0m\u001b[0;34m]\u001b[0m\u001b[0;34m\u001b[0m\u001b[0;34m\u001b[0m\u001b[0m\n",
      "\u001b[0;31mNameError\u001b[0m: name 'fresh' is not defined"
     ]
    }
   ],
   "source": [
    "# регулярными выражениями находим в ссылка слова, которые входят в название, берем первые 3 позиции и склеиваем\n",
    "title=[]\n",
    "titles_to_check=[]\n",
    "for line in fresh:\n",
    "    title = re.findall(r'(\\w+)\\b ', line)\n",
    "    words = title[0]+' '+title[1]+' '+title[2]+' '+title[3]+' '+title[4]+' '+title[5]\n",
    "    titles_to_check.append(words)\n",
    "for i in titles_to_check:\n",
    "    print(i)"
   ]
  },
  {
   "cell_type": "markdown",
   "metadata": {},
   "source": [
    "В этом варианте цепляю все слова подряд, но пока работает некорректно, цепляет журналы тоже."
   ]
  },
  {
   "cell_type": "code",
   "execution_count": null,
   "metadata": {},
   "outputs": [],
   "source": [
    "# регулярными выражениями находим в ссылка слова, которые входят в название, берем первые 3 позиции и склеиваем\n",
    "# ! цепляет журнал и издательство\n",
    "title_1=[]\n",
    "titles_to_check_1=[]\n",
    "words_1 = ''\n",
    "for line in fresh:\n",
    "    title_1 = re.findall(r'(\\w+)\\b ', line)\n",
    "    words_1 = ' '.join(title_1)\n",
    "    titles_to_check_1.append(words_1)\n",
    "print(titles_to_check_1)"
   ]
  },
  {
   "cell_type": "markdown",
   "metadata": {},
   "source": [
    "Это пока для проверки, что действительно эти названия вошли. Бывает, что первые 4-5 слов совпадают в нескольких статьях из базы и он один источник засчитывает за 2-3. Решится, когда разберемся с корректным отделением названий."
   ]
  },
  {
   "cell_type": "code",
   "execution_count": null,
   "metadata": {},
   "outputs": [],
   "source": [
    "#поиск количества вхождений названия в столбец в базе\n",
    "count_tit=0\n",
    "for i in scopus['Название']:\n",
    "    for line in titles_to_check:\n",
    "        if line in str(i):\n",
    "            print(line)\n",
    "            count_tit+=1\n",
    "            print(count_tit,' ', i,'\\n')\n",
    "count_tit"
   ]
  },
  {
   "cell_type": "code",
   "execution_count": null,
   "metadata": {},
   "outputs": [],
   "source": []
  },
  {
   "cell_type": "code",
   "execution_count": null,
   "metadata": {},
   "outputs": [],
   "source": []
  },
  {
   "cell_type": "markdown",
   "metadata": {},
   "source": [
    "Это пока не важно, штука-считалка, которая сможет потом импортировать итеративно все файлы в папке одним списком, не поштучно."
   ]
  },
  {
   "cell_type": "code",
   "execution_count": null,
   "metadata": {},
   "outputs": [],
   "source": [
    "import requests\n",
    "gen_path='https://stepic.org/media/attachments/course67/3.6.3/'\n",
    "with open('dataset_3378_3.txt') as path_in:\n",
    "    url = path_in.readline().strip()\n",
    "    start = gen_path + url    \n",
    "    r=requests.get(start)\n",
    "while 1:\n",
    "        comm = r.text\n",
    "        if 'We' in comm:\n",
    "            print(r.text)\n",
    "            break\n",
    "        else:\n",
    "            url_next= gen_path + comm\n",
    "            print(comm)"
   ]
  }
 ],
 "metadata": {
  "kernelspec": {
   "display_name": "Python 3",
   "language": "python",
   "name": "python3"
  },
  "language_info": {
   "codemirror_mode": {
    "name": "ipython",
    "version": 3
   },
   "file_extension": ".py",
   "mimetype": "text/x-python",
   "name": "python",
   "nbconvert_exporter": "python",
   "pygments_lexer": "ipython3",
   "version": "3.7.7"
  }
 },
 "nbformat": 4,
 "nbformat_minor": 2
}
